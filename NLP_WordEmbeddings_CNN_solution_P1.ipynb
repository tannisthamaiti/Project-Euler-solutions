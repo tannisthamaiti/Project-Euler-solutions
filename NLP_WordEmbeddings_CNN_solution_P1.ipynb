{
  "cells": [
    {
      "cell_type": "markdown",
      "metadata": {
        "id": "view-in-github",
        "colab_type": "text"
      },
      "source": [
        "<a href=\"https://colab.research.google.com/github/tannisthamaiti/Project-Euler-solutions/blob/master/NLP_WordEmbeddings_CNN_solution_P1.ipynb\" target=\"_parent\"><img src=\"https://colab.research.google.com/assets/colab-badge.svg\" alt=\"Open In Colab\"/></a>"
      ]
    },
    {
      "cell_type": "markdown",
      "id": "ed5330c1",
      "metadata": {
        "id": "ed5330c1"
      },
      "source": [
        "# Word Embeddings: Training the Continuos Bag of Words (CBOW) model\n",
        "\n",
        "The next few sections of code will walk you through\n",
        "\n",
        "- Forward propagation.\n",
        "\n",
        "- Cross-entropy loss.\n",
        "\n",
        "- Backpropagation.\n",
        "\n",
        "- Gradient descent.\n",
        "\n",
        "Which are concepts necessary to understand how the training of the model works.\n",
        "\n",
        "Let's dive into it!"
      ]
    },
    {
      "cell_type": "markdown",
      "id": "0d956ba9",
      "metadata": {
        "id": "0d956ba9"
      },
      "source": [
        "## Forward propagation"
      ]
    },
    {
      "cell_type": "markdown",
      "id": "60b11906",
      "metadata": {
        "id": "60b11906"
      },
      "source": [
        "Let's dive into the neural network itself, which is shown below with all the dimensions and formulas you'll need.\n",
        "\n",
        "![CBOW Model](https://github.com/tannisthamaiti/AIWeekend-Project/blob/main/images/cbow_model_dimensions_single_input.png?raw=true)"
      ]
    },
    {
      "cell_type": "markdown",
      "id": "40919bc2",
      "metadata": {
        "id": "40919bc2"
      },
      "source": [
        "Set $N$ equal to 3. Remember that $N$ is a hyperparameter of the CBOW model that represents the size of the word embedding vectors, as well as the size of the hidden layer.\n",
        "\n",
        "Also set $V$ equal to 5, which is the size of the vocabulary we have used so far."
      ]
    },
    {
      "cell_type": "code",
      "source": [
        "# Define the size of the word embedding vectors and save it in the variable 'N'\n",
        "N = 3\n",
        "\n",
        "# Define V. Remember this was the size of the vocabulary in the previous lecture notebooks\n",
        "V = 5"
      ],
      "metadata": {
        "id": "_9mTXc9anE2H"
      },
      "id": "_9mTXc9anE2H",
      "execution_count": null,
      "outputs": []
    },
    {
      "cell_type": "markdown",
      "id": "59a1e099",
      "metadata": {
        "id": "59a1e099"
      },
      "source": [
        "### Initialization of the weights and biases"
      ]
    },
    {
      "cell_type": "markdown",
      "id": "caf5e06f",
      "metadata": {
        "id": "caf5e06f"
      },
      "source": [
        "Before you start training the neural network, you need to initialize the weight matrices and bias vectors with random values.\n",
        "\n",
        "In the assignment you will implement a function to do this yourself using `numpy.random.rand`. In this notebook, we've pre-populated these matrices and vectors for you."
      ]
    },
    {
      "cell_type": "code",
      "source": [
        "# Define first matrix of weights\n",
        "W1 = np.array([[ 0.41687358,  0.08854191, -0.23495225,  0.28320538,  0.41800106],\n",
        "               [ 0.32735501,  0.22795148, -0.23951958,  0.4117634 , -0.23924344],\n",
        "               [ 0.26637602, -0.23846886, -0.37770863, -0.11399446,  0.34008124]])\n",
        "\n",
        "# Define second matrix of weights\n",
        "W2 = np.array([[-0.22182064, -0.43008631,  0.13310965],\n",
        "               [ 0.08476603,  0.08123194,  0.1772054 ],\n",
        "               [ 0.1871551 , -0.06107263, -0.1790735 ],\n",
        "               [ 0.07055222, -0.02015138,  0.36107434],\n",
        "               [ 0.33480474, -0.39423389, -0.43959196]])\n",
        "\n",
        "# Define first vector of biases\n",
        "b1 = np.array([[ 0.09688219],\n",
        "               [ 0.29239497],\n",
        "               [-0.27364426]])\n",
        "\n",
        "# Define second vector of biases\n",
        "b2 = np.array([[ 0.0352008 ],\n",
        "               [-0.36393384],\n",
        "               [-0.12775555],\n",
        "               [-0.34802326],\n",
        "               [-0.07017815]])"
      ],
      "metadata": {
        "id": "OQ0EVTEDnsHo"
      },
      "id": "OQ0EVTEDnsHo",
      "execution_count": null,
      "outputs": []
    },
    {
      "cell_type": "markdown",
      "source": [
        "**Check that the dimensions of these matrices match those shown in the figure above.**"
      ],
      "metadata": {
        "id": "Kspn3TJJn31x"
      },
      "id": "Kspn3TJJn31x"
    },
    {
      "cell_type": "code",
      "source": [
        "print(f'V (vocabulary size): {V}')\n",
        "print(f'N (embedding size / size of the hidden layer): {N}')\n",
        "print(f'size of W1: {W1.shape} (NxV)')\n",
        "print(f'size of b1: {b1.shape} (Nx1)')\n",
        "print(f'size of W2: {W2.shape} (VxN)')\n",
        "print(f'size of b2: {b2.shape} (Vx1)')"
      ],
      "metadata": {
        "id": "W_1gY3POn5xJ"
      },
      "id": "W_1gY3POn5xJ",
      "execution_count": null,
      "outputs": []
    },
    {
      "cell_type": "markdown",
      "source": [
        "Before moving forward, you will need some functions and variables"
      ],
      "metadata": {
        "id": "EZZEBi52ojS6"
      },
      "id": "EZZEBi52ojS6"
    },
    {
      "cell_type": "code",
      "source": [
        "# Define the tokenized version of the corpus\n",
        "words = ['i', 'am', 'happy', 'because', 'i', 'am', 'learning']\n",
        "\n",
        "# Get 'word2Ind' and 'Ind2word' dictionaries for the tokenized corpus\n",
        "word2Ind, Ind2word = get_dict(words)\n",
        "\n",
        "# Define the 'get_windows' function\n",
        "def get_windows(words, C):\n",
        "    i = C\n",
        "    while i < len(words) - C:\n",
        "        center_word = words[i]\n",
        "        context_words = words[(i - C):i] + words[(i+1):(i+C+1)]\n",
        "        yield context_words, center_word\n",
        "        i += 1\n",
        "\n",
        "# Define the 'word_to_one_hot_vector' function\n",
        "def word_to_one_hot_vector(word, word2Ind, V):\n",
        "    one_hot_vector = np.zeros(V)\n",
        "    one_hot_vector[word2Ind[word]] = 1\n",
        "    return one_hot_vector\n",
        "\n",
        "# Define the 'context_words_to_vector' function\n",
        "def context_words_to_vector(context_words, word2Ind, V):\n",
        "    context_words_vectors = [word_to_one_hot_vector(w, word2Ind, V) for w in context_words]\n",
        "    context_words_vectors = np.mean(context_words_vectors, axis=0)\n",
        "    return context_words_vectors\n",
        "\n",
        "# Define the generator function 'get_training_example' as seen in a previous notebook\n",
        "def get_training_example(words, C, word2Ind, V):\n",
        "    for context_words, center_word in get_windows(words, C):\n",
        "        yield context_words_to_vector(context_words, word2Ind, V), word_to_one_hot_vector(center_word, word2Ind, V)"
      ],
      "metadata": {
        "id": "yCgokCn2oPPi"
      },
      "id": "yCgokCn2oPPi",
      "execution_count": null,
      "outputs": []
    },
    {
      "cell_type": "markdown",
      "id": "d57c5004",
      "metadata": {
        "id": "d57c5004"
      },
      "source": [
        "### Training example"
      ]
    },
    {
      "cell_type": "markdown",
      "source": [
        "Run the next cells to get the first training example, made of the vector representing the context words \"i am because i\", and the target which is the one-hot vector representing the center word \"happy\"."
      ],
      "metadata": {
        "id": "buxDke8opeL8"
      },
      "id": "buxDke8opeL8"
    },
    {
      "cell_type": "code",
      "source": [
        "# Save generator object in the 'training_examples' variable with the desired arguments\n",
        "training_examples = get_training_example(words, 2, word2Ind, V)"
      ],
      "metadata": {
        "id": "AYV9PWKkpu52"
      },
      "id": "AYV9PWKkpu52",
      "execution_count": null,
      "outputs": []
    },
    {
      "cell_type": "markdown",
      "source": [
        "`get_training_examples`, which uses the `yield` keyword, is known as a generator. When run, it builds an iterator, which is a special type of object that... you can iterate on (using a for loop for instance), to retrieve the successive values that the function generates.\n",
        "\n",
        "In this case `get_training_examples` yields training examples, and iterating on training_examples will return the successive training examples."
      ],
      "metadata": {
        "id": "xVhgagjEpy51"
      },
      "id": "xVhgagjEpy51"
    },
    {
      "cell_type": "code",
      "execution_count": null,
      "id": "8f1ecbe7",
      "metadata": {
        "id": "8f1ecbe7"
      },
      "outputs": [],
      "source": [
        "# Get first values from generator\n",
        "x_array, y_array = next(training_examples)"
      ]
    },
    {
      "cell_type": "markdown",
      "id": "36a4df11",
      "metadata": {
        "id": "36a4df11"
      },
      "source": [
        "> `next` is another special keyword, which gets the next available value from an iterator. Here, you'll get the very first value, which is the first training example. If you run this cell again, you'll get the next value, and so on until the iterator runs out of values to return.\n",
        ">\n",
        "> In this notebook `next` is used because you will only be performing one iteration of training. In this week's assignment with the full training over several iterations you'll use regular `for` loops with the iterator that supplies the training examples."
      ]
    },
    {
      "cell_type": "markdown",
      "source": [
        "The vector representing the context words, which will be fed into the neural network, is:"
      ],
      "metadata": {
        "id": "lkE4r5Oaqu-1"
      },
      "id": "lkE4r5Oaqu-1"
    },
    {
      "cell_type": "code",
      "source": [
        "# Print context words vector\n",
        "x_array"
      ],
      "metadata": {
        "id": "5HfjYK0fqr6w"
      },
      "id": "5HfjYK0fqr6w",
      "execution_count": null,
      "outputs": []
    },
    {
      "cell_type": "markdown",
      "source": [
        "The one-hot vector representing the center word to be predicted is:"
      ],
      "metadata": {
        "id": "XGMsJH8Bq2ze"
      },
      "id": "XGMsJH8Bq2ze"
    },
    {
      "cell_type": "code",
      "source": [
        "# Print one hot vector of center word\n",
        "y_array"
      ],
      "metadata": {
        "id": "MJ8szAi1q11D"
      },
      "id": "MJ8szAi1q11D",
      "execution_count": null,
      "outputs": []
    },
    {
      "cell_type": "markdown",
      "source": [
        "Now convert these vectors into matrices (or 2D arrays) to be able to perform matrix multiplication on the right types of objects"
      ],
      "metadata": {
        "id": "6Qz-BqF5q9lz"
      },
      "id": "6Qz-BqF5q9lz"
    },
    {
      "cell_type": "code",
      "execution_count": null,
      "id": "34568f01",
      "metadata": {
        "id": "34568f01"
      },
      "outputs": [],
      "source": [
        "# Copy vector\n",
        "x = x_array.copy()\n",
        "\n",
        "# Reshape it\n",
        "x.shape = (V, 1)\n",
        "\n",
        "# Print it\n",
        "print(f'x:\\n{x}\\n')\n",
        "\n",
        "# Copy vector\n",
        "y = y_array.copy()\n",
        "\n",
        "# Reshape it\n",
        "y.shape = (V, 1)\n",
        "\n",
        "# Print it\n",
        "print(f'y:\\n{y}')"
      ]
    },
    {
      "cell_type": "markdown",
      "source": [
        "Now you will need the activation functions\n",
        "#ReLu\n",
        "ReLU is used to calculate the values of the hidden layer, in the following formulas:\n",
        "\n",
        "\\begin{align}\n",
        " \\mathbf{z_1} &= \\mathbf{W_1}\\mathbf{x} + \\mathbf{b_1}  \\tag{1} \\\\\n",
        " \\mathbf{h} &= \\mathrm{ReLU}(\\mathbf{z_1})  \\tag{2} \\\\\n",
        "\\end{align}"
      ],
      "metadata": {
        "id": "p25Opcy5rbsX"
      },
      "id": "p25Opcy5rbsX"
    },
    {
      "cell_type": "markdown",
      "source": [
        "## Softmax\n",
        "\n",
        "The second activation function that you need is softmax. This function is used to calculate the values of the output layer of the neural network, using the following formulas:\n",
        "\n",
        "\\begin{align}\n",
        " \\mathbf{z_2} &= \\mathbf{W_2}\\mathbf{h} + \\mathbf{b_2}   \\tag{3} \\\\\n",
        " \\mathbf{\\hat y} &= \\mathrm{softmax}(\\mathbf{z_2})   \\tag{4} \\\\\n",
        "\\end{align}\n",
        "\n",
        "To calculate softmax of a vector $\\mathbf{z}$, the $i$-th component of the resulting vector is given by:\n",
        "\n",
        "$$ \\textrm{softmax}(\\textbf{z})_i = \\frac{e^{z_i} }{\\sum\\limits_{j=1}^{V} e^{z_j} }  \\tag{5} $$\n",
        "\n",
        "Let's work through an example."
      ],
      "metadata": {
        "id": "TDBHh_LjXP2b"
      },
      "id": "TDBHh_LjXP2b"
    },
    {
      "cell_type": "code",
      "source": [
        "# Define the 'relu' function\n",
        "def relu(z):\n",
        "    #To get the ReLU of this vector, you want all the negative values to become zeros.\n",
        "    #Create copy of vector and save it in the 'h' variable\n",
        "    #Determine which values met the criteria (this is possible because of vectorization)\n",
        "    # Slice the array or vector. This is the same as applying ReLU to it\n",
        "    #\n",
        "    result = z.copy()\n",
        "    result[result < 0] = 0\n",
        "    return result\n",
        "    pass\n",
        "\n",
        "# Define the 'softmax' function\n",
        "def softmax(z):\n",
        "    #You'll need to calculate the exponentials of each element, both for the numerator and for the denominator.\n",
        "    # Save exponentials of the values in a new vector\n",
        "    # Save the sum of the exponentials\n",
        "    def softmax(z):\n",
        "    e_z = np.exp(z)\n",
        "    sum_e_z = np.sum(e_z)\n",
        "    return e_z / sum_e_z"
      ],
      "metadata": {
        "id": "OJ9NYHnxq1HS"
      },
      "id": "OJ9NYHnxq1HS",
      "execution_count": null,
      "outputs": []
    },
    {
      "cell_type": "markdown",
      "source": [
        "check working of ReLu"
      ],
      "metadata": {
        "id": "0q9VhHbWW5j_"
      },
      "id": "0q9VhHbWW5j_"
    },
    {
      "cell_type": "code",
      "source": [
        "# Define a new vector and save it in the 'z' variable\n",
        "z = np.array([[-1.25459881], [ 4.50714306], [ 2.31993942], [ 0.98658484], [-3.4398136 ]])\n",
        "\n",
        "# Apply ReLU to it\n",
        "relu(z)"
      ],
      "metadata": {
        "id": "0MNPXU2pW3XD"
      },
      "id": "0MNPXU2pW3XD",
      "execution_count": null,
      "outputs": []
    },
    {
      "cell_type": "markdown",
      "source": [
        "Check the working of Softmax"
      ],
      "metadata": {
        "id": "CY0dRl53ZD0t"
      },
      "id": "CY0dRl53ZD0t"
    },
    {
      "cell_type": "code",
      "source": [
        "# Print softmax values for original vector\n",
        "softmax([9, 8, 11, 10, 8.5])\n",
        "print (np.sum(softmax([9, 8, 11, 10, 8.5])))"
      ],
      "metadata": {
        "id": "eMjbg3fVZDBj"
      },
      "id": "eMjbg3fVZDBj",
      "execution_count": null,
      "outputs": []
    },
    {
      "cell_type": "markdown",
      "id": "902ea9c3",
      "metadata": {
        "id": "902ea9c3"
      },
      "source": [
        "### Values of the hidden layer\n",
        "\n",
        "Now that you have initialized all the variables that you need for forward propagation, you can calculate the values of the hidden layer using the following formulas:\n",
        "\n",
        "\\begin{align}\n",
        " \\mathbf{z_1} = \\mathbf{W_1}\\mathbf{x} + \\mathbf{b_1}  \\tag{1} \\\\\n",
        " \\mathbf{h} = \\mathrm{ReLU}(\\mathbf{z_1})  \\tag{2} \\\\\n",
        "\\end{align}\n",
        "\n",
        "First, you can calculate the value of $\\mathbf{z_1}$."
      ]
    },
    {
      "cell_type": "code",
      "execution_count": null,
      "id": "0afa41b9",
      "metadata": {
        "id": "0afa41b9"
      },
      "outputs": [],
      "source": [
        "# Compute z1 (values of first hidden layer before applying the ReLU function)\n",
        "z1 = np.dot(W1, x) + b1\n",
        "\n"
      ]
    },
    {
      "cell_type": "markdown",
      "id": "2ee4acca",
      "metadata": {
        "id": "2ee4acca"
      },
      "source": [
        "> `np.dot` is numpy's function for matrix multiplication.\n",
        "\n",
        "As expected you get an $N$ by 1 matrix, or column vector with $N$ elements, where $N$ is equal to the embedding size, which is 3 in this example."
      ]
    },
    {
      "cell_type": "code",
      "execution_count": null,
      "id": "96d29fe8",
      "metadata": {
        "id": "96d29fe8"
      },
      "outputs": [],
      "source": [
        "# Print z1\n",
        "z1"
      ]
    },
    {
      "cell_type": "markdown",
      "id": "c3406491",
      "metadata": {
        "id": "c3406491"
      },
      "source": [
        "You can now take the ReLU of $\\mathbf{z_1}$ to get $\\mathbf{h}$, the vector with the values of the hidden layer."
      ]
    },
    {
      "cell_type": "code",
      "execution_count": null,
      "id": "53fdc179",
      "metadata": {
        "id": "53fdc179"
      },
      "outputs": [],
      "source": [
        "# Compute h (z1 after applying ReLU function)\n",
        "h = relu(z1)\n",
        "\n",
        "# Print h\n",
        "h"
      ]
    },
    {
      "cell_type": "markdown",
      "id": "9fdba259",
      "metadata": {
        "id": "9fdba259"
      },
      "source": [
        "Applying ReLU means that the negative element of $\\mathbf{z_1}$ has been replaced with a zero."
      ]
    },
    {
      "cell_type": "markdown",
      "id": "9fea1462",
      "metadata": {
        "id": "9fea1462"
      },
      "source": [
        "### Values of the output layer\n",
        "\n",
        "Here are the formulas you need to calculate the values of the output layer, represented by the vector $\\mathbf{\\hat y}$:\n",
        "\n",
        "\\begin{align}\n",
        " \\mathbf{z_2} &= \\mathbf{W_2}\\mathbf{h} + \\mathbf{b_2}   \\tag{3} \\\\\n",
        " \\mathbf{\\hat y} &= \\mathrm{softmax}(\\mathbf{z_2})   \\tag{4} \\\\\n",
        "\\end{align}\n",
        "\n",
        "**First, calculate $\\mathbf{z_2}$.**"
      ]
    },
    {
      "cell_type": "code",
      "execution_count": null,
      "id": "b6ccd28a",
      "metadata": {
        "id": "b6ccd28a"
      },
      "outputs": [],
      "source": [
        "# Compute z2 (values of the output layer before applying the softmax function)\n",
        "z2 = np.dot(W2, h) + b2\n",
        "\n",
        "# Print z2\n",
        "z2"
      ]
    },
    {
      "cell_type": "markdown",
      "id": "737aedb7",
      "metadata": {
        "id": "737aedb7"
      },
      "source": [
        "Expected output:\n",
        "\n",
        "    array([[-0.31973737],\n",
        "           [-0.28125477],\n",
        "           [-0.09838369],\n",
        "           [-0.33512159],\n",
        "           [-0.19919612]])"
      ]
    },
    {
      "cell_type": "markdown",
      "id": "40782380",
      "metadata": {
        "id": "40782380"
      },
      "source": [
        "This is a $V$ by 1 matrix, where $V$ is the size of the vocabulary, which is 5 in this example."
      ]
    },
    {
      "cell_type": "markdown",
      "id": "449df105",
      "metadata": {
        "id": "449df105"
      },
      "source": [
        "**Now calculate the value of $\\mathbf{\\hat y}$.**"
      ]
    },
    {
      "cell_type": "code",
      "execution_count": null,
      "id": "9f825b6a",
      "metadata": {
        "id": "9f825b6a"
      },
      "outputs": [],
      "source": [
        "# Compute y_hat (z2 after applying softmax function)\n",
        "y_hat = softmax(z2)\n",
        "\n",
        "# Print y_hat\n",
        "y_hat"
      ]
    },
    {
      "cell_type": "markdown",
      "id": "137539e4",
      "metadata": {
        "id": "137539e4"
      },
      "source": [
        "Expected output:\n",
        "\n",
        "    array([[0.18519074],\n",
        "           [0.19245626],\n",
        "           [0.23107446],\n",
        "           [0.18236353],\n",
        "           [0.20891502]])"
      ]
    },
    {
      "cell_type": "markdown",
      "id": "e62e0363",
      "metadata": {
        "id": "e62e0363"
      },
      "source": [
        "As you've performed the calculations with random matrices and vectors (apart from the input vector), the output of the neural network is essentially random at this point. The learning process will adjust the weights and biases to match the actual targets better.\n",
        "\n",
        "**That being said, what word did the neural network predict?**"
      ]
    },
    {
      "cell_type": "markdown",
      "id": "f42f9961",
      "metadata": {
        "id": "f42f9961"
      },
      "source": [
        "<details>    \n",
        "<summary>\n",
        "    <font size=\"3\" color=\"darkgreen\"><b>Solution</b></font>\n",
        "</summary>\n",
        "<p>The neural network predicted the word \"happy\": the largest element of $\\mathbf{\\hat y}$ is the third one, and the third word of the vocabulary is \"happy\".</p>\n",
        "<p>Here's how you could implement this in Python:</p>\n",
        "<p><code>print(Ind2word[np.argmax(y_hat)])</code></p>"
      ]
    },
    {
      "cell_type": "markdown",
      "id": "10e99c5e",
      "metadata": {
        "id": "10e99c5e"
      },
      "source": [
        "Well done, you've completed the forward propagation phase!\n",
        "\n",
        "## Cross-entropy loss\n",
        "\n",
        "Now that you have the network's prediction, you can calculate the cross-entropy loss to determine how accurate the prediction was compared to the actual target.\n",
        "\n",
        "> Remember that you are working on a single training example, not on a batch of examples, which is why you are using *loss* and not *cost*, which is the generalized form of loss.\n",
        "\n",
        "First let's recall what the prediction was."
      ]
    },
    {
      "cell_type": "code",
      "execution_count": null,
      "id": "b371887b",
      "metadata": {
        "id": "b371887b"
      },
      "outputs": [],
      "source": [
        "# Print prediction\n",
        "y_hat"
      ]
    },
    {
      "cell_type": "markdown",
      "id": "4e95cac2",
      "metadata": {
        "id": "4e95cac2"
      },
      "source": [
        "And the actual target value is:"
      ]
    },
    {
      "cell_type": "code",
      "execution_count": null,
      "id": "34242c90",
      "metadata": {
        "id": "34242c90"
      },
      "outputs": [],
      "source": [
        "# Print target value\n",
        "y"
      ]
    },
    {
      "cell_type": "markdown",
      "id": "23f7d89b",
      "metadata": {
        "id": "23f7d89b"
      },
      "source": [
        "The formula for cross-entropy loss is:\n",
        "\n",
        "$$ J=-\\sum\\limits_{k=1}^{V}y_k\\log{\\hat{y}_k} \\tag{6}$$\n",
        "\n",
        "**Try implementing the cross-entropy loss function so you get more familiar working with numpy**\n",
        "\n",
        "Here are a some hints if you're stuck."
      ]
    },
    {
      "cell_type": "code",
      "execution_count": null,
      "id": "dcc2d970",
      "metadata": {
        "id": "dcc2d970"
      },
      "outputs": [],
      "source": [
        "def cross_entropy_loss(y_predicted, y_actual):\n",
        "    # Fill the loss variable with your code\n",
        "    loss = -np.sum(np.log(y_hat) * y)\n",
        "    return loss"
      ]
    },
    {
      "cell_type": "markdown",
      "id": "f0a4c537",
      "metadata": {
        "id": "f0a4c537"
      },
      "source": [
        "<details>    \n",
        "<summary>\n",
        "    <font size=\"3\" color=\"darkgreen\"><b>Hint 1</b></font>\n",
        "</summary>\n",
        "    <p>To multiply two numpy matrices (such as <code>y</code> and <code>y_hat</code>) element-wise, you can simply use the <code>*</code> operator.</p>"
      ]
    },
    {
      "cell_type": "markdown",
      "id": "8e48e297",
      "metadata": {
        "id": "8e48e297"
      },
      "source": [
        "<details>    \n",
        "<summary>\n",
        "    <font size=\"3\" color=\"darkgreen\"><b>Hint 2</b></font>\n",
        "</summary>\n",
        "<p>Once you have a vector equal to the element-wise multiplication of <code>y</code> and <code>y_hat</code>, you can use <code>np.sum</code> to calculate the sum of the elements of this vector.</p>"
      ]
    },
    {
      "cell_type": "markdown",
      "id": "e43d2f39",
      "metadata": {
        "id": "e43d2f39"
      },
      "source": [
        "<details>    \n",
        "<summary>\n",
        "    <font size=\"3\" color=\"darkgreen\"><b>Solution</b></font>\n",
        "</summary>\n",
        "<p><code>loss = np.sum(-np.log(y_hat)*y)</code></p>"
      ]
    },
    {
      "cell_type": "markdown",
      "id": "d0c48f8a",
      "metadata": {
        "id": "d0c48f8a"
      },
      "source": [
        "Don't forget to run the cell containing the `cross_entropy_loss` function once it is solved."
      ]
    },
    {
      "cell_type": "markdown",
      "id": "5b49d7fb",
      "metadata": {
        "id": "5b49d7fb"
      },
      "source": [
        "**Now use this function to calculate the loss with the actual values of $\\mathbf{y}$ and $\\mathbf{\\hat y}$.**"
      ]
    },
    {
      "cell_type": "code",
      "execution_count": null,
      "id": "eaa9de42",
      "metadata": {
        "id": "eaa9de42"
      },
      "outputs": [],
      "source": [
        "# Print value of cross entropy loss for prediction and target value\n",
        "cross_entropy_loss(y_hat, y)"
      ]
    },
    {
      "cell_type": "markdown",
      "id": "49388195",
      "metadata": {
        "id": "49388195"
      },
      "source": [
        "Expected output:\n",
        "\n",
        "    1.4650152923611106"
      ]
    },
    {
      "cell_type": "markdown",
      "id": "43763d28",
      "metadata": {
        "id": "43763d28"
      },
      "source": [
        "This value is neither good nor bad, which is expected as the neural network hasn't learned anything yet.\n",
        "\n",
        "The actual learning will start during the next phase: backpropagation.\n",
        "\n",
        "## Backpropagation\n",
        "\n",
        "The formulas that you will implement for backpropagation are the following.\n",
        "\n",
        "\\begin{align}\n",
        " \\frac{\\partial J}{\\partial \\mathbf{W_1}} &= \\rm{ReLU}\\left ( \\mathbf{W_2^\\top} (\\mathbf{\\hat{y}} - \\mathbf{y})\\right )\\mathbf{x}^\\top \\tag{7}\\\\\n",
        " \\frac{\\partial J}{\\partial \\mathbf{W_2}} &= (\\mathbf{\\hat{y}} - \\mathbf{y})\\mathbf{h^\\top} \\tag{8}\\\\\n",
        " \\frac{\\partial J}{\\partial \\mathbf{b_1}} &= \\rm{ReLU}\\left ( \\mathbf{W_2^\\top} (\\mathbf{\\hat{y}} - \\mathbf{y})\\right ) \\tag{9}\\\\\n",
        " \\frac{\\partial J}{\\partial \\mathbf{b_2}} &= \\mathbf{\\hat{y}} - \\mathbf{y} \\tag{10}\n",
        "\\end{align}\n",
        "\n",
        "> Note: these formulas are slightly simplified compared as you're working on a single training example. In the assignment you'll be implementing the latter.\n",
        "\n",
        "Let's start with an easy one.\n",
        "\n",
        "**Calculate the partial derivative of the loss function with respect to $\\mathbf{b_2}$, and store the result in `grad_b2`.**\n",
        "\n",
        "$$\\frac{\\partial J}{\\partial \\mathbf{b_2}} = \\mathbf{\\hat{y}} - \\mathbf{y} \\tag{10}$$"
      ]
    },
    {
      "cell_type": "code",
      "execution_count": null,
      "id": "d4b67fd2",
      "metadata": {
        "id": "d4b67fd2"
      },
      "outputs": [],
      "source": [
        "# Compute vector with partial derivatives of loss function with respect to b2\n",
        "grad_b2 = #Your code here\n",
        "\n",
        "# Print this vector\n",
        "grad_b2"
      ]
    },
    {
      "cell_type": "markdown",
      "id": "32987e0a",
      "metadata": {
        "id": "32987e0a"
      },
      "source": [
        "Expected output:\n",
        "\n",
        "    array([[ 0.18519074],\n",
        "           [ 0.19245626],\n",
        "           [-0.76892554],\n",
        "           [ 0.18236353],\n",
        "           [ 0.20891502]])"
      ]
    },
    {
      "cell_type": "markdown",
      "id": "a2ea621a",
      "metadata": {
        "id": "a2ea621a"
      },
      "source": [
        "**Next, calculate the partial derivative of the loss function with respect to $\\mathbf{W_2}$, and store the result in `grad_W2`.**\n",
        "\n",
        "$$\\frac{\\partial J}{\\partial \\mathbf{W_2}} = (\\mathbf{\\hat{y}} - \\mathbf{y})\\mathbf{h^\\top} \\tag{8}$$\n",
        "\n",
        "> Hint: use `.T` to get a transposed matrix, e.g. `h.T` returns $\\mathbf{h^\\top}$."
      ]
    },
    {
      "cell_type": "code",
      "execution_count": null,
      "id": "df81c0e9",
      "metadata": {
        "id": "df81c0e9"
      },
      "outputs": [],
      "source": [
        "# Compute matrix with partial derivatives of loss function with respect to W2\n",
        "grad_W2 = #Your code here\n",
        "\n",
        "# Print matrix\n",
        "grad_W2"
      ]
    },
    {
      "cell_type": "markdown",
      "id": "182e0123",
      "metadata": {
        "id": "182e0123"
      },
      "source": [
        "Expected output:\n",
        "\n",
        "    array([[ 0.06756476,  0.11798563,  0.        ],\n",
        "           [ 0.0702155 ,  0.12261452,  0.        ],\n",
        "           [-0.28053384, -0.48988499,  0.        ],\n",
        "           [ 0.06653328,  0.1161844 ,  0.        ],\n",
        "           [ 0.07622029,  0.13310045,  0.        ]])"
      ]
    },
    {
      "cell_type": "markdown",
      "id": "deecaa64",
      "metadata": {
        "id": "deecaa64"
      },
      "source": [
        "**Now calculate the partial derivative with respect to $\\mathbf{b_1}$ and store the result in `grad_b1`.**\n",
        "\n",
        "$$\\frac{\\partial J}{\\partial \\mathbf{b_1}} = \\rm{ReLU}\\left ( \\mathbf{W_2^\\top} (\\mathbf{\\hat{y}} - \\mathbf{y})\\right ) \\tag{9}$$"
      ]
    },
    {
      "cell_type": "code",
      "execution_count": null,
      "id": "c4dd8abe",
      "metadata": {
        "id": "c4dd8abe"
      },
      "outputs": [],
      "source": [
        "# Compute vector with partial derivatives of loss function with respect to b1\n",
        "grad_b1 = relu(np.dot(W2.T, y_hat - y))\n",
        "\n",
        "# Print vector\n",
        "grad_b1"
      ]
    },
    {
      "cell_type": "markdown",
      "id": "ebbc2572",
      "metadata": {
        "id": "ebbc2572"
      },
      "source": [
        "Expected output:\n",
        "\n",
        "    array([[0.        ],\n",
        "           [0.        ],\n",
        "           [0.17045858]])"
      ]
    },
    {
      "cell_type": "markdown",
      "id": "15476c69",
      "metadata": {
        "id": "15476c69"
      },
      "source": [
        "**Finally, calculate the partial derivative of the loss with respect to $\\mathbf{W_1}$, and store it in `grad_W1`.**\n",
        "\n",
        "$$\\frac{\\partial J}{\\partial \\mathbf{W_1}} = \\rm{ReLU}\\left ( \\mathbf{W_2^\\top} (\\mathbf{\\hat{y}} - \\mathbf{y})\\right )\\mathbf{x}^\\top \\tag{7}$$"
      ]
    },
    {
      "cell_type": "code",
      "execution_count": null,
      "id": "c11fa35d",
      "metadata": {
        "id": "c11fa35d"
      },
      "outputs": [],
      "source": [
        "# Compute matrix with partial derivatives of loss function with respect to W1\n",
        "grad_W1 = np.dot(relu(np.dot(W2.T, y_hat - y)), x.T)\n",
        "\n",
        "# Print matrix\n",
        "grad_W1"
      ]
    },
    {
      "cell_type": "markdown",
      "id": "d662cef3",
      "metadata": {
        "id": "d662cef3"
      },
      "source": [
        "Expected output:\n",
        "\n",
        "    array([[0.        , 0.        , 0.        , 0.        , 0.        ],\n",
        "           [0.        , 0.        , 0.        , 0.        , 0.        ],\n",
        "           [0.04261464, 0.04261464, 0.        , 0.08522929, 0.        ]])"
      ]
    },
    {
      "cell_type": "markdown",
      "id": "d72b8409",
      "metadata": {
        "id": "d72b8409"
      },
      "source": [
        "Before moving on to gradient descent, double-check that all the matrices have the expected dimensions."
      ]
    },
    {
      "cell_type": "code",
      "execution_count": null,
      "id": "96da4e01",
      "metadata": {
        "id": "96da4e01"
      },
      "outputs": [],
      "source": [
        "print(f'V (vocabulary size): {V}')\n",
        "print(f'N (embedding size / size of the hidden layer): {N}')\n",
        "print(f'size of grad_W1: {grad_W1.shape} (NxV)')\n",
        "print(f'size of grad_b1: {grad_b1.shape} (Nx1)')\n",
        "print(f'size of grad_W2: {grad_W2.shape} (VxN)')\n",
        "print(f'size of grad_b2: {grad_b2.shape} (Vx1)')"
      ]
    },
    {
      "cell_type": "markdown",
      "id": "a8a2d1e8",
      "metadata": {
        "id": "a8a2d1e8"
      },
      "source": [
        "## Gradient descent\n",
        "\n",
        "During the gradient descent phase, you will update the weights and biases by subtracting $\\alpha$ times the gradient from the original matrices and vectors, using the following formulas.\n",
        "\n",
        "\\begin{align}\n",
        " \\mathbf{W_1} &:= \\mathbf{W_1} - \\alpha \\frac{\\partial J}{\\partial \\mathbf{W_1}} \\tag{11}\\\\\n",
        " \\mathbf{W_2} &:= \\mathbf{W_2} - \\alpha \\frac{\\partial J}{\\partial \\mathbf{W_2}} \\tag{12}\\\\\n",
        " \\mathbf{b_1} &:= \\mathbf{b_1} - \\alpha \\frac{\\partial J}{\\partial \\mathbf{b_1}} \\tag{13}\\\\\n",
        " \\mathbf{b_2} &:= \\mathbf{b_2} - \\alpha \\frac{\\partial J}{\\partial \\mathbf{b_2}} \\tag{14}\\\\\n",
        "\\end{align}\n",
        "\n",
        "First, let set a value for $\\alpha$."
      ]
    },
    {
      "cell_type": "code",
      "execution_count": null,
      "id": "101a8c1a",
      "metadata": {
        "id": "101a8c1a"
      },
      "outputs": [],
      "source": [
        "# Define alpha\n",
        "alpha = 0.03"
      ]
    },
    {
      "cell_type": "markdown",
      "id": "6c5eda66",
      "metadata": {
        "id": "6c5eda66"
      },
      "source": [
        "The updated weight matrix $\\mathbf{W_1}$ will be:"
      ]
    },
    {
      "cell_type": "code",
      "execution_count": null,
      "id": "0338ed9a",
      "metadata": {
        "id": "0338ed9a"
      },
      "outputs": [],
      "source": [
        "# Compute updated W1\n",
        "W1_new = #Your code here"
      ]
    },
    {
      "cell_type": "markdown",
      "id": "5347425e",
      "metadata": {
        "id": "5347425e"
      },
      "source": [
        "Let's compare the previous and new values of $\\mathbf{W_1}$:"
      ]
    },
    {
      "cell_type": "code",
      "execution_count": null,
      "id": "6f7e867a",
      "metadata": {
        "id": "6f7e867a"
      },
      "outputs": [],
      "source": [
        "print('old value of W1:')\n",
        "print(W1)\n",
        "print()\n",
        "print('new value of W1:')\n",
        "print(W1_new)"
      ]
    },
    {
      "cell_type": "markdown",
      "id": "5b978e12",
      "metadata": {
        "id": "5b978e12"
      },
      "source": [
        "The difference is very subtle (hint: take a closer look at the last row), which is why it takes a fair amount of iterations to train the neural network until it reaches optimal weights and biases starting from random values.\n",
        "\n",
        "**Now calculate the new values of $\\mathbf{W_2}$ (to be stored in `W2_new`), $\\mathbf{b_1}$ (in `b1_new`), and $\\mathbf{b_2}$ (in `b2_new`).**\n",
        "\n",
        "\\begin{align}\n",
        " \\mathbf{W_2} &:= \\mathbf{W_2} - \\alpha \\frac{\\partial J}{\\partial \\mathbf{W_2}} \\tag{12}\\\\\n",
        " \\mathbf{b_1} &:= \\mathbf{b_1} - \\alpha \\frac{\\partial J}{\\partial \\mathbf{b_1}} \\tag{13}\\\\\n",
        " \\mathbf{b_2} &:= \\mathbf{b_2} - \\alpha \\frac{\\partial J}{\\partial \\mathbf{b_2}} \\tag{14}\\\\\n",
        "\\end{align}"
      ]
    },
    {
      "cell_type": "code",
      "execution_count": null,
      "id": "1d5d7c64",
      "metadata": {
        "id": "1d5d7c64"
      },
      "outputs": [],
      "source": [
        "# Compute updated W2\n",
        "W2_new = #Your code here\n",
        "\n",
        "# Compute updated b1\n",
        "b1_new = #Your code here\n",
        "\n",
        "# Compute updated b2\n",
        "b2_new = #Your code here\n",
        "\n",
        "\n",
        "print('W2_new')\n",
        "print(W2_new)\n",
        "print()\n",
        "print('b1_new')\n",
        "print(b1_new)\n",
        "print()\n",
        "print('b2_new')\n",
        "print(b2_new)"
      ]
    },
    {
      "cell_type": "markdown",
      "id": "9989305d",
      "metadata": {
        "id": "9989305d"
      },
      "source": [
        "Expected output:\n",
        "\n",
        "    W2_new\n",
        "    [[-0.22384758 -0.43362588  0.13310965]\n",
        "     [ 0.08265956  0.0775535   0.1772054 ]\n",
        "     [ 0.19557112 -0.04637608 -0.1790735 ]\n",
        "     [ 0.06855622 -0.02363691  0.36107434]\n",
        "     [ 0.33251813 -0.3982269  -0.43959196]]\n",
        "\n",
        "    b1_new\n",
        "    [[ 0.09688219]\n",
        "     [ 0.29239497]\n",
        "     [-0.27875802]]\n",
        "\n",
        "    b2_new\n",
        "    [[ 0.02964508]\n",
        "     [-0.36970753]\n",
        "     [-0.10468778]\n",
        "     [-0.35349417]\n",
        "     [-0.0764456 ]]"
      ]
    },
    {
      "cell_type": "markdown",
      "id": "758bca18",
      "metadata": {
        "id": "758bca18"
      },
      "source": [
        "Congratulations, you have completed one iteration of training using one training example!\n",
        "\n",
        "You'll need many more iterations to fully train the neural network, and you can optimize the learning process by training on batches of examples, as described in the lecture. You will get to do this during this week's assignment.\n",
        "\n",
        "### How this practice relates to and differs from the upcoming graded assignment\n",
        "\n",
        "- In the assignment, for each iteration of training you will use batches of examples instead of a single example. The formulas for forward propagation and backpropagation will be modified accordingly, and you will use cross-entropy cost instead of cross-entropy loss.\n",
        "- You will also complete several iterations of training, until you reach an acceptably low cross-entropy cost, at which point you can extract good word embeddings from the weight matrices."
      ]
    },
    {
      "cell_type": "markdown",
      "id": "b925bcdf",
      "metadata": {
        "id": "b925bcdf"
      },
      "source": [
        "### 🚀 Task: Implement Tokenization\n",
        "\n",
        " Fill in the missing code below to tokenize the given text."
      ]
    },
    {
      "cell_type": "code",
      "execution_count": null,
      "id": "d3e50b25",
      "metadata": {
        "id": "d3e50b25"
      },
      "outputs": [],
      "source": [
        "# Import Python libraries and helper functions (in utils2)\n",
        "import nltk\n",
        "from nltk.tokenize import word_tokenize\n",
        "import numpy as np\n",
        "from collections import Counter\n",
        "from utils2 import sigmoid, get_batches, compute_pca, get_dict"
      ]
    },
    {
      "cell_type": "code",
      "source": [
        "# Download sentence tokenizer\n",
        "nltk.data.path.append('.')\n",
        "# Load, tokenize and process the data\n",
        "import re                                                           #  Load the Regex-modul\n",
        "with open('shakespeare.txt') as f:\n",
        "    data = f.read()                                                 #  Read in the data\n",
        "data = re.sub(r'[,!?;-]', '.',data)                                 #  Punktuations are replaced by .\n",
        "data = nltk.word_tokenize(data)                                     #  Tokenize string to words\n",
        "data = [ ch.lower() for ch in data if ch.isalpha() or ch == '.']    #  Lower case and drop non-alphabetical tokens\n",
        "print(\"Number of tokens:\", len(data),'\\n', data[:15])               #  print data sample"
      ],
      "metadata": {
        "id": "9ekFqiUE06my"
      },
      "id": "9ekFqiUE06my",
      "execution_count": null,
      "outputs": []
    },
    {
      "cell_type": "code",
      "source": [
        "# Compute the frequency distribution of the words in the dataset (vocabulary)\n",
        "fdist = nltk.FreqDist(word for word in data)\n",
        "print(\"Size of vocabulary: \",len(fdist) )\n",
        "print(\"Most frequent tokens: \",fdist.most_common(20) ) # print the 20 most frequent words and their freq."
      ],
      "metadata": {
        "id": "H6fUbKc31N7_"
      },
      "id": "H6fUbKc31N7_",
      "execution_count": null,
      "outputs": []
    },
    {
      "cell_type": "code",
      "source": [
        "# get_dict creates two dictionaries, converting words to indices and viceversa.\n",
        "word2Ind, Ind2word = get_dict(data)\n",
        "V = len(word2Ind)\n",
        "print(\"Size of vocabulary: \", V)"
      ],
      "metadata": {
        "id": "ro8zBBGu1ik2"
      },
      "id": "ro8zBBGu1ik2",
      "execution_count": null,
      "outputs": []
    },
    {
      "cell_type": "code",
      "source": [
        "# example of word to index mapping\n",
        "print(\"Index of the word 'king' :  \",word2Ind['king'] )\n",
        "print(\"Index of the word 'king' :  \",word2Ind['Queen'] )\n",
        "print(\"Word which has index 2743:  \",Ind2word[2743] )"
      ],
      "metadata": {
        "id": "vNCmq-xK1mAD"
      },
      "id": "vNCmq-xK1mAD",
      "execution_count": null,
      "outputs": []
    }
  ],
  "metadata": {
    "language_info": {
      "name": "python"
    },
    "colab": {
      "provenance": [],
      "include_colab_link": true
    },
    "kernelspec": {
      "name": "python3",
      "display_name": "Python 3"
    }
  },
  "nbformat": 4,
  "nbformat_minor": 5
}